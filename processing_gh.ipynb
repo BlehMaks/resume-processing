{
 "cells": [
  {
   "cell_type": "code",
   "execution_count": null,
   "id": "9e2422e4-94f0-4264-a932-a4225341578f",
   "metadata": {},
   "outputs": [],
   "source": [
    "import requests\n",
    "import pandas as pd\n",
    "import json\n",
    "import openai\n",
    "import glob"
   ]
  },
  {
   "cell_type": "code",
   "execution_count": null,
   "id": "7578c0f6-cdf5-4c40-8bf2-866b9f06382c",
   "metadata": {},
   "outputs": [],
   "source": [
    "#Initialisation\n",
    "# API credentials\n",
    "client_id = 'input your HH.ru client id'\n",
    "client_secret = 'input your HH.ru client secret'\n",
    "redirect_uri = 'input any link to copy a code from it'  # Usually for OAuth2, but might not be needed\n",
    "auth_url = 'https://hh.ru/oauth/authorize'\n",
    "\n",
    "app_name = 'Candidate_filter'"
   ]
  },
  {
   "cell_type": "code",
   "execution_count": null,
   "id": "0c8377d2-2c28-42f7-87e8-1924f7421f56",
   "metadata": {
    "scrolled": true
   },
   "outputs": [],
   "source": [
    "# Create the URL to redirect the user for authorization\n",
    "authorization_url = f\"{auth_url}?response_type=code&client_id={client_id}&redirect_uri={redirect_uri}\"\n",
    "\n",
    "print(f\"Go to the following URL to authorize the application: {authorization_url}\")"
   ]
  },
  {
   "cell_type": "code",
   "execution_count": null,
   "id": "aaf6f5ef-fc27-48fa-bbfa-ce0bdcf75cc6",
   "metadata": {},
   "outputs": [],
   "source": [
    "# Replace 'your_authorization_code' with the actual code you received\n",
    "authorization_code = 'your_authorization_code '\n",
    "token_url = 'https://hh.ru/oauth/token'\n",
    "\n",
    "# Parameters for the POST request to exchange the authorization code for an access token\n",
    "data = {\n",
    "    'grant_type': 'authorization_code',\n",
    "    'client_id': client_id,\n",
    "    'client_secret': client_secret,\n",
    "    'code': authorization_code,\n",
    "    'redirect_uri': redirect_uri\n",
    "}"
   ]
  },
  {
   "cell_type": "code",
   "execution_count": null,
   "id": "a04bc646-aef6-46cf-ae15-0691ad94d020",
   "metadata": {},
   "outputs": [],
   "source": [
    "# Send the POST request test\n",
    "response = requests.post(token_url, data=data)\n",
    "\n",
    "if response.status_code == 200:\n",
    "    access_token = response.json().get('access_token')\n",
    "    print(\"Access Token:\", access_token)\n",
    "else:\n",
    "    print(f\"Error: {response.status_code}, {response.text}\")"
   ]
  },
  {
   "cell_type": "code",
   "execution_count": null,
   "id": "19546849-afb6-4dcc-9cd2-94bd2f8a050b",
   "metadata": {},
   "outputs": [],
   "source": [
    "# HH.ru API search function\n",
    "def search_resumes(query_params, access_token):\n",
    "    url = \"https://api.hh.ru/resumes\"\n",
    "    headers = {\n",
    "        'Authorization': f'Bearer {access_token}',\n",
    "        'User-Agent': 'your-app-name'\n",
    "    }\n",
    "    \n",
    "    # Make the request with the given filters\n",
    "    response = requests.get(url, headers=headers, params=query_params)\n",
    "    \n",
    "    if response.status_code == 200:\n",
    "        return response.json()\n",
    "    else:\n",
    "        print(f\"Error searching resumes: {response.status_code}, {response.text}\")\n",
    "        return None"
   ]
  },
  {
   "cell_type": "code",
   "execution_count": null,
   "id": "f482487f-6f32-4e13-b184-11f94dfbb333",
   "metadata": {},
   "outputs": [],
   "source": [
    "# Example of query parameters (you can adjust as needed)\n",
    "query_params = {\n",
    "    'text': 'Data Scientist',  # Job title\n",
    "    'area': 1,                 # Region ID (1 is Moscow, you can use others)\n",
    "    'experience': 'between3And6',  # Experience (e.g., between3And6 is 3-6 years)\n",
    "    'relocation': 'living_but_relocation',  # Willingness to relocate\n",
    "    'industry': 7,             # Industry ID (for example, 7 is \"IT, Telecoms\")\n",
    "    'per_page': 1,            # Number of resumes per page\n",
    "    'page': 0                  # Page number for pagination\n",
    "}\n",
    "\n",
    "# Search resumes\n",
    "resumes_data = search_resumes(query_params, access_token)"
   ]
  },
  {
   "cell_type": "code",
   "execution_count": null,
   "id": "138db0ef-f6a8-41c1-8527-8f1eef20c28a",
   "metadata": {},
   "outputs": [],
   "source": [
    "if response.status_code == 200:\n",
    "    #resumes_data = response.json()\n",
    "    print(resumes_data)\n",
    "else:\n",
    "    print(f\"Error searching resumes: {response.status_code}, {response.text}\")"
   ]
  },
  {
   "cell_type": "code",
   "execution_count": null,
   "id": "585ab154-a977-44cb-9012-1bb473c9b1ea",
   "metadata": {},
   "outputs": [],
   "source": [
    "# Function to parse the JSON response into a flat structure\n",
    "def parse_full_resume_data(json_data):\n",
    "    items = json_data.get(\"items\", [])\n",
    "    \n",
    "    # List to store extracted data\n",
    "    data_list = []\n",
    "    \n",
    "    for item in items:\n",
    "        # Flatten the JSON structure by checking nested fields\n",
    "        resume_data = {\n",
    "            \"Resume ID\": item.get(\"id\"),\n",
    "            \"Oracle DB Dev Score\": '',\n",
    "            \"BA Score\": '',\n",
    "            \"DE Score\": '',\n",
    "            \"Total Score\": '',\n",
    "            \"Last Name\": item.get(\"last_name\"),\n",
    "            \"First Name\": item.get(\"first_name\"),\n",
    "            \"Middle Name\": item.get(\"middle_name\"),\n",
    "            \"Title\": item.get(\"title\"),\n",
    "            \"Created At\": item.get(\"created_at\"),\n",
    "            \"Updated At\": item.get(\"updated_at\"),\n",
    "            \"Location\": item.get(\"area\", {}).get(\"name\", None),\n",
    "            \"Age\": item.get(\"age\"),\n",
    "            \"Gender\": item.get(\"gender\", {}).get(\"name\", None),\n",
    "            \"Salary\": item.get(\"salary\"),\n",
    "            \"Photo\": item.get(\"photo\", None),\n",
    "            \"Total Experience (months)\": item.get(\"total_experience\", {}).get(\"months\", None),\n",
    "            \"Can View Full Info\": item.get(\"can_view_full_info\"),\n",
    "            \"Negotiations History URL\": item.get(\"negotiations_history\", {}).get(\"url\", None),\n",
    "            \"Hidden Fields\": \"; \".join([str(field) for field in item.get(\"hidden_fields\", [])]),\n",
    "            \"PDF Download Link\": item.get(\"download\", {}).get(\"pdf\", {}).get(\"url\", None),\n",
    "            \"RTF Download Link\": item.get(\"download\", {}).get(\"rtf\", {}).get(\"url\", None),\n",
    "            \"Resume URL\": item.get(\"url\"),\n",
    "            \"Alternate URL\": item.get(\"alternate_url\"),\n",
    "            \"Platform\": item.get(\"platform\", {}).get(\"id\", None),\n",
    "            \"Favorited\": item.get(\"favorited\", False),\n",
    "            \"Viewed\": item.get(\"viewed\", False),\n",
    "            \"Marked\": item.get(\"marked\", False),\n",
    "            \"Last Negotiation\": item.get(\"last_negotiation\", None),\n",
    "        }\n",
    "\n",
    "        # Handling certificates\n",
    "        certificates = item.get(\"certificate\", [])\n",
    "        resume_data[\"Certificates\"] = \"; \".join([cert.get(\"name\", \"N/A\") for cert in certificates])\n",
    "\n",
    "        # Handling owner ID\n",
    "        resume_data[\"Owner ID\"] = item.get(\"owner\", {}).get(\"id\", None)\n",
    "\n",
    "        # Handling education\n",
    "        primary_education = item.get(\"education\", {}).get(\"primary\", [])\n",
    "        if primary_education:\n",
    "            education_details = [edu.get(\"name\", \"N/A\") + \" - \" + edu.get(\"result\", \"N/A\") for edu in primary_education]\n",
    "            resume_data[\"Education Details\"] = \"; \".join(education_details)\n",
    "        resume_data[\"Education Level\"] = item.get(\"education\", {}).get(\"level\", {}).get(\"name\", None)\n",
    "\n",
    "        # Handling work experience\n",
    "        experience_list = []\n",
    "        for exp in item.get(\"experience\", []):\n",
    "            exp_str = f\"{exp.get('company', 'N/A')} ({exp.get('position', 'N/A')})\"\n",
    "            experience_list.append(exp_str)\n",
    "        \n",
    "        resume_data[\"Experience\"] = \"; \".join(experience_list)\n",
    "        \n",
    "        # Add the parsed resume data to the list\n",
    "        data_list.append(resume_data)\n",
    "    \n",
    "    return data_list"
   ]
  },
  {
   "cell_type": "code",
   "execution_count": null,
   "id": "52501145-061a-4401-9c6a-9b7c26d3c81c",
   "metadata": {},
   "outputs": [],
   "source": [
    "# Parse the response and store it in a DataFrame\n",
    "parsed_resume_data = parse_full_resume_data(resumes_data)"
   ]
  },
  {
   "cell_type": "code",
   "execution_count": null,
   "id": "cfc63f6a-ce22-4787-ac23-774962dc28b5",
   "metadata": {},
   "outputs": [],
   "source": [
    "# Create a Pandas DataFrame\n",
    "df_resumes = pd.DataFrame(parsed_resume_data)"
   ]
  },
  {
   "cell_type": "code",
   "execution_count": null,
   "id": "9e6686b1-8548-463b-b932-31eb37a6b0f0",
   "metadata": {},
   "outputs": [],
   "source": [
    "# Display the DataFrame\n",
    "df_resumes"
   ]
  },
  {
   "cell_type": "code",
   "execution_count": null,
   "id": "60012a22-5008-4a2d-aad5-10e10c51abf5",
   "metadata": {},
   "outputs": [],
   "source": [
    "# Function to load JSON files and create a job description array\n",
    "def create_job_descriptions_array(json_directory):\n",
    "    job_descriptions = []\n",
    "\n",
    "    # Read all JSON files from the directory\n",
    "    json_files = glob.glob(f\"{json_directory}/*.json\")\n",
    "\n",
    "    for file in json_files:\n",
    "        with open(file, 'r') as f:\n",
    "            job_data = json.load(f)\n",
    "            job_descriptions.append(job_data)\n",
    "    \n",
    "    return job_descriptions"
   ]
  },
  {
   "cell_type": "code",
   "execution_count": null,
   "id": "e733c070-9b65-4ddb-a894-b812408286a3",
   "metadata": {},
   "outputs": [],
   "source": [
    "# Example usage\n",
    "json_directory = \".\"  # directory where your job JSON files are stored\n",
    "job_descriptions_array = create_job_descriptions_array(json_directory)"
   ]
  },
  {
   "cell_type": "code",
   "execution_count": null,
   "id": "8af4071c-38b4-45f6-9644-c9b73eb94284",
   "metadata": {},
   "outputs": [],
   "source": [
    "# Print or use the job descriptions array\n",
    "print(json.dumps(job_descriptions_array, indent=4))"
   ]
  },
  {
   "cell_type": "code",
   "execution_count": null,
   "id": "ea8f8314-8290-4091-a786-994bcd942541",
   "metadata": {},
   "outputs": [],
   "source": [
    "# Function to submit resumes and compare them to job descriptions\n",
    "def gpt_process_resumes(client, job_descriptions, resume):\n",
    "    # Store the scores\n",
    "    results = []\n",
    "\n",
    "    # Create a prompt for each resume and job description\n",
    "    prompt = f\"\"\"\n",
    "    You are an expert in evaluating candidates for specific job positions. \n",
    "    I will provide you with a candidate's resume and job descriptions for three different positions. \n",
    "    Please evaluate the resume and score how well it matches each job description. \n",
    "    For each job description, score from 0 to 10, where 0 means no match and 10 means a perfect match.\n",
    "\n",
    "    Resume:\n",
    "    {resume}\n",
    "\n",
    "    Job Descriptions:\n",
    "    1. {json.dumps(job_descriptions[0], indent=2)}\n",
    "    2. {json.dumps(job_descriptions[1], indent=2)}\n",
    "    3. {json.dumps(job_descriptions[2], indent=2)}\n",
    "\n",
    "    Provide scores in the following format:\n",
    "    {{\n",
    "        \"Oracle_DB_Dev_score\": X,\n",
    "        \"BA_score\": Y,\n",
    "        \"DE_score\": Z,\n",
    "        \"total_score\": (X + Y + Z) / 3\n",
    "    }}\n",
    "    \"\"\"\n",
    "\n",
    "    # Call the GPT model with the prepared prompt\n",
    "    response = client.chat.completions.create(\n",
    "        model=\"gpt-3.5-turbo\",\n",
    "        messages=[\n",
    "            {\"role\": \"system\", \"content\": \"You are an expert job evaluator.\"},\n",
    "            {\"role\": \"user\", \"content\": prompt}\n",
    "        ]\n",
    "    )\n",
    "    return response\n"
   ]
  },
  {
   "cell_type": "code",
   "execution_count": null,
   "id": "a6860597-930e-47ed-b12c-dd9c3b066668",
   "metadata": {},
   "outputs": [],
   "source": [
    "def parse_scores(response, resume):\n",
    "    results = []\n",
    "    # Parse the GPT response and extract scores\n",
    "    try:\n",
    "        # Retrieve content from the response object\n",
    "        scores = json.loads(response.choices[0].message.content)\n",
    "        # Append results for each resume\n",
    "        results.append({\n",
    "            #\"Resume\": resume['first_name'] + \" \" + resume['last_name'],\n",
    "            \"Resume ID\": resume['Resume ID'],\n",
    "            \"Oracle DB Dev score\": scores.get(\"Oracle_DB_Dev_score\", \"N/A\"),\n",
    "            \"BA score\": scores.get(\"BA_score\", \"N/A\"),\n",
    "            \"DE score\": scores.get(\"DE_score\", \"N/A\"),\n",
    "            \"Total Score\": scores.get(\"total_score\", \"N/A\")\n",
    "        })\n",
    "        # Return the results as a DataFrame for better visibility\n",
    "        df = pd.DataFrame(results)\n",
    "    except (json.JSONDecodeError, KeyError, AttributeError):\n",
    "        df = \"Error parsing GPT response.\"\n",
    "        print(\"Error parsing GPT response. Skipping this resume.\")\n",
    "    \n",
    "    return df"
   ]
  },
  {
   "cell_type": "code",
   "execution_count": null,
   "id": "5491921a-9a55-48d7-a67e-72ca57c9051c",
   "metadata": {},
   "outputs": [],
   "source": [
    "# API from OpenAI account\n",
    "openai.api_key = 'your_openAI_api_key'\n",
    "client = openai.Client(api_key=openai.api_key)"
   ]
  },
  {
   "cell_type": "code",
   "execution_count": null,
   "id": "302217c5-86a7-4e16-bc2b-acb0f1350b43",
   "metadata": {},
   "outputs": [],
   "source": [
    "#set up the process in a way, that scores are added to the list of resumes and only then the df is created in the end.\n",
    "for index, row in df_resumes.iterrows():\n",
    "    #print('I am here')\n",
    "    #print(index, row)\n",
    "    resume_data = row.to_dict()\n",
    "    if not response: #debug\n",
    "        response = gpt_process_resumes(client=client, job_descriptions=job_descriptions_array, resume=resume_data)\n",
    "    print(response,'\\n') #debug\n",
    "    scores = parse_scores(response=response, resume=resume_data)\n",
    "    print(f\"Scores: {scores}\") #debug\n",
    "    if not isinstance(scores, str):\n",
    "        df_resumes.at[index, 'Scores'] = scores\n",
    "        df_resumes #debug\n",
    "    else:\n",
    "        print(f\"Scores 2: {scores}\")"
   ]
  },
  {
   "cell_type": "code",
   "execution_count": null,
   "id": "70ded01a-9546-46e3-8bf7-46616994cb6b",
   "metadata": {},
   "outputs": [],
   "source": [
    "# Display the updated DataFrame with scores\n",
    "#print(resumes_df)"
   ]
  },
  {
   "cell_type": "code",
   "execution_count": null,
   "id": "6067e3ed-34de-40b0-9eee-6c401d7bd45a",
   "metadata": {},
   "outputs": [],
   "source": []
  }
 ],
 "metadata": {
  "kernelspec": {
   "display_name": "Python 3 (ipykernel)",
   "language": "python",
   "name": "python3"
  },
  "language_info": {
   "codemirror_mode": {
    "name": "ipython",
    "version": 3
   },
   "file_extension": ".py",
   "mimetype": "text/x-python",
   "name": "python",
   "nbconvert_exporter": "python",
   "pygments_lexer": "ipython3",
   "version": "3.11.8"
  }
 },
 "nbformat": 4,
 "nbformat_minor": 5
}
